{
 "cells": [
  {
   "cell_type": "code",
   "execution_count": 1,
   "metadata": {},
   "outputs": [
    {
     "data": {
      "text/plain": [
       "\"\\nValidates CTWED and cuTWED with a well known synthetic dataset:\\n\\nhttp://archive.ics.uci.edu/ml/datasets/Pseudo+Periodic+Synthetic+Time+Series\\n\\nWe compare the all-pairs distance matrix as computed by\\nseveral cuTWED implementations with Marteau's reference code.\\n\\nNote this collection of tests is skipped by default.\\n\\nCopyright 2020 Garrett Wright, Gestalt Group LLC\\n\""
      ]
     },
     "execution_count": 1,
     "metadata": {},
     "output_type": "execute_result"
    }
   ],
   "source": [
    "#!/usr/bin/env python\n",
    "\"\"\"\n",
    "Validates CTWED and cuTWED with a well known synthetic dataset:\n",
    "\n",
    "http://archive.ics.uci.edu/ml/datasets/Pseudo+Periodic+Synthetic+Time+Series\n",
    "\n",
    "We compare the all-pairs distance matrix as computed by\n",
    "several cuTWED implementations with Marteau's reference code.\n",
    "\n",
    "Note this collection of tests is skipped by default.\n",
    "\n",
    "Copyright 2020 Garrett Wright, Gestalt Group LLC\n",
    "\"\"\"\n"
   ]
  },
  {
   "cell_type": "code",
   "execution_count": 2,
   "metadata": {
    "scrolled": true
   },
   "outputs": [],
   "source": [
    "# Note, in addition to the regular cuTWED depeneds you may need to\n",
    "#%pip install matplotlib seaborn\n",
    "\n",
    "from timeit import default_timer as timer\n",
    "\n",
    "import gzip\n",
    "import matplotlib.pylab as plt\n",
    "import numpy as np\n",
    "import pycuda.autoinit  # noqa: F401\n",
    "import pycuda.gpuarray as gpuarray\n",
    "import pytest\n",
    "import seaborn as sns\n",
    "from itertools import product\n",
    "from tqdm import tqdm\n",
    "\n",
    "# Import functions from cuTWED\n",
    "from CTWED import ctwed\n",
    "from cuTWED import twed\n",
    "from cuTWED import twed_batch\n",
    "from cuTWED import twed_batch_dev\n",
    "from cuTWED import twed_dev"
   ]
  },
  {
   "cell_type": "code",
   "execution_count": null,
   "metadata": {},
   "outputs": [],
   "source": []
  },
  {
   "cell_type": "code",
   "execution_count": 3,
   "metadata": {},
   "outputs": [],
   "source": [
    "# Load and preprocess the raw data:\n",
    "fn = 'synthetic.data.gz'\n",
    "\n",
    "with gzip.open(fn, 'r') as fh:\n",
    "    lines = fh.readlines()\n",
    "\n",
    "# Get Shape\n",
    "# Note this data is stored as (10) column vectors.\n",
    "# In the process of assigning into array, we will also put in C order.\n",
    "# This yields 10 rows, where each row is a time series of 100001 points.\n",
    "# Your data may vary.  The other synthetic control set is opposite of this, for example.\n",
    "nsamples = len(lines)\n",
    "nseries = len(lines[0].split())\n",
    "\n",
    "# Process the data into an array\n",
    "TS = np.zeros((nseries, nsamples),dtype=np.float64)\n",
    "for t, line in enumerate(lines):\n",
    "    line = line.strip().split()\n",
    "    for n, item in enumerate(line):\n",
    "        TS[n][t] = item\n",
    "\n",
    "# Make a time axis\n",
    "T = np.linspace(0, 1, nsamples, dtype=np.float64)\n",
    "# For batched calls we stack our fabricated time axis to match our nseries batch\n",
    "TT = np.tile(T, (nseries, 1))\n",
    "# Note this is a little clunky, but it generalizes for cases where your times are not identical,\n",
    "# like event driven data.  Its easier to just stack an identical vector then be confused with too many API methods...\n",
    "\n",
    "\n",
    "# If you want to run a smaller problem (use only some of the data), reduce subset...\n",
    "#subset = False\n",
    "subset=20000\n",
    "if subset:\n",
    "    T = np.linspace(0, 1, subset, dtype=np.float64)\n",
    "    TT = np.tile(T, (nseries, 1))\n",
    "    TS = TS[:, 0:subset].copy() # note the copy is important, if you get a \"view\" from np, your results will be crap.\n"
   ]
  },
  {
   "cell_type": "code",
   "execution_count": 4,
   "metadata": {},
   "outputs": [
    {
     "data": {
      "text/plain": [
       "(10, 20000)"
      ]
     },
     "execution_count": 4,
     "metadata": {},
     "output_type": "execute_result"
    }
   ],
   "source": [
    "TS.shape"
   ]
  },
  {
   "cell_type": "code",
   "execution_count": 5,
   "metadata": {},
   "outputs": [],
   "source": [
    "# Set algo params\n",
    "nu = 1.\n",
    "lamb = 1.\n",
    "degree = 2\n",
    "\n"
   ]
  },
  {
   "cell_type": "code",
   "execution_count": 6,
   "metadata": {},
   "outputs": [
    {
     "data": {
      "image/png": "[encoded data removed]",
      "text/plain": [
       "<Figure size 432x288 with 2 Axes>"
      ]
     },
     "metadata": {},
     "output_type": "display_data"
    }
   ],
   "source": [
    "# Compute all TWED between series in the synthetic index dataset, and plot\n",
    "\n",
    "# This takes a while for the full dataset, about enough time to go for a walk,\n",
    "#    but fits fine; uses only about 150MiB of GPU memory for the full size..\n",
    "# I doubt this was reasonably computable at all prior to cuTWED....\n",
    "DistanceMatrix_batch = twed_batch(TS, TT, TS, TT, nu, lamb, degree)\n",
    "\n",
    "with sns.axes_style(\"white\"):\n",
    "    sns.heatmap(np.triu(DistanceMatrix_batch), square=True,  cmap=\"YlGnBu\")\n",
    "    plt.plot()"
   ]
  },
  {
   "cell_type": "code",
   "execution_count": 7,
   "metadata": {},
   "outputs": [
    {
     "data": {
      "text/plain": [
       "2979.509095138588"
      ]
     },
     "execution_count": 7,
     "metadata": {},
     "output_type": "execute_result"
    }
   ],
   "source": [
    "DistanceMatrix_batch[0,-1]"
   ]
  },
  {
   "cell_type": "code",
   "execution_count": 8,
   "metadata": {},
   "outputs": [
    {
     "name": "stderr",
     "output_type": "stream",
     "text": [
      "100%|██████████| 100/100 [09:13<00:00,  5.53s/it]\n"
     ]
    },
    {
     "data": {
      "image/png": "[encoded data removed]",
      "text/plain": [
       "<Figure size 432x288 with 2 Axes>"
      ]
     },
     "metadata": {},
     "output_type": "display_data"
    }
   ],
   "source": [
    "# NOTE YOU WILL NEED A HIGH MEM MACHINE TO RUN THE FULL DATASET.....\n",
    "from psutil import virtual_memory\n",
    "mem = virtual_memory()\n",
    "ram = mem.total\n",
    "if ram < subset**2 * 8  * 1.1:\n",
    "    raise MemoryError(\"Sorry I don't think you have enough RAM for this using ctwed...\"\n",
    "                      \" Try adjusting the variable 'subset' to a smaller amount to run a reduced problem.\"\n",
    "                      \" I chose to emit this poorly worded message instead of thrashing you computer...\")\n",
    "\n",
    "# Test running the synthetic index dataset\"\"\"\n",
    "\n",
    "DistanceMatrix_ref = np.zeros((nseries, nseries))\n",
    "for (row, A), (col,B) in tqdm(product(enumerate(TS), enumerate(TS)), total=len(TS)**2):\n",
    "        if col < row:\n",
    "            continue\n",
    "        dist = ctwed(A, T, B, T, nu, lamb, degree)\n",
    "        DistanceMatrix_ref[row][col] = dist\n",
    "\n",
    "with sns.axes_style(\"white\"):\n",
    "    sns.heatmap(DistanceMatrix_ref, square=True,  cmap=\"YlGnBu\")\n",
    "    plt.plot()\n"
   ]
  },
  {
   "cell_type": "code",
   "execution_count": 9,
   "metadata": {},
   "outputs": [
    {
     "data": {
      "text/plain": [
       "2979.509095138588"
      ]
     },
     "execution_count": 9,
     "metadata": {},
     "output_type": "execute_result"
    }
   ],
   "source": [
    "DistanceMatrix_ref[0,-1]"
   ]
  },
  {
   "cell_type": "code",
   "execution_count": 10,
   "metadata": {},
   "outputs": [
    {
     "name": "stderr",
     "output_type": "stream",
     "text": [
      "100%|██████████| 100/100 [01:13<00:00,  1.37it/s]\n"
     ]
    },
    {
     "data": {
      "image/png": "[encoded data removed]",
      "text/plain": [
       "<Figure size 432x288 with 2 Axes>"
      ]
     },
     "metadata": {},
     "output_type": "display_data"
    }
   ],
   "source": [
    "# Test running the synthetic index dataset\"\"\"\n",
    "\n",
    "DistanceMatrix_cu = np.zeros((nseries, nseries))\n",
    "for (row, A), (col,B) in tqdm(product(enumerate(TS), enumerate(TS)), total=len(TS)**2):\n",
    "        if col < row:\n",
    "            continue\n",
    "        dist = twed(A, T, B, T, nu, lamb, degree)\n",
    "        DistanceMatrix_cu[row][col] = dist\n",
    "\n",
    "with sns.axes_style(\"white\"):\n",
    "    sns.heatmap(DistanceMatrix_cu, square=True,  cmap=\"YlGnBu\")\n",
    "    plt.plot()\n"
   ]
  },
  {
   "cell_type": "code",
   "execution_count": 11,
   "metadata": {},
   "outputs": [
    {
     "data": {
      "text/plain": [
       "2979.509095138588"
      ]
     },
     "execution_count": 11,
     "metadata": {},
     "output_type": "execute_result"
    }
   ],
   "source": [
    "DistanceMatrix_cu[0,-1]"
   ]
  },
  {
   "cell_type": "code",
   "execution_count": 12,
   "metadata": {},
   "outputs": [
    {
     "data": {
      "text/plain": [
       "9.094947017729282e-13"
      ]
     },
     "execution_count": 12,
     "metadata": {},
     "output_type": "execute_result"
    }
   ],
   "source": [
    "np.max(np.abs(DistanceMatrix_cu - DistanceMatrix_ref))"
   ]
  },
  {
   "cell_type": "code",
   "execution_count": 13,
   "metadata": {},
   "outputs": [
    {
     "data": {
      "text/plain": [
       "9.094947017729282e-13"
      ]
     },
     "execution_count": 13,
     "metadata": {},
     "output_type": "execute_result"
    }
   ],
   "source": [
    "np.max(np.triu(DistanceMatrix_batch - DistanceMatrix_ref))"
   ]
  },
  {
   "cell_type": "code",
   "execution_count": null,
   "metadata": {},
   "outputs": [],
   "source": []
  },
  {
   "cell_type": "code",
   "execution_count": null,
   "metadata": {},
   "outputs": [],
   "source": []
  }
 ],
 "metadata": {
  "kernelspec": {
   "display_name": "Python 3",
   "language": "python",
   "name": "python3"
  },
  "language_info": {
   "codemirror_mode": {
    "name": "ipython",
    "version": 3
   },
   "file_extension": ".py",
   "mimetype": "text/x-python",
   "name": "python",
   "nbconvert_exporter": "python",
   "pygments_lexer": "ipython3",
   "version": "3.7.3"
  }
 },
 "nbformat": 4,
 "nbformat_minor": 2
}
